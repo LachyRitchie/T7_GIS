{
 "cells": [
  {
   "cell_type": "markdown",
   "metadata": {},
   "source": [
    "# T7 Shield Data Exploration\n",
    "\n",
    "This notebook provides an overview of the T7 Shield data environment and demonstrates basic GIS operations using the installed Python libraries.\n",
    "\n",
    "**Author:** T7 Shield GIS Environment  \n",
    "**Created:** 2025  \n",
    "**Purpose:** Initial data exploration and environment testing"
   ]
  },
  {
   "cell_type": "code",
   "execution_count": null,
   "metadata": {},
   "outputs": [],
   "source": [
    "# Import essential libraries\n",
    "import pandas as pd\n",
    "import geopandas as gpd\n",
    "import rasterio as rio\n",
    "import numpy as np\n",
    "import matplotlib.pyplot as plt\n",
    "import seaborn as sns\n",
    "import folium\n",
    "from pathlib import Path\n",
    "import warnings\n",
    "warnings.filterwarnings('ignore')\n",
    "\n",
    "# Configure matplotlib\n",
    "plt.style.use('seaborn-v0_8')\n",
    "plt.rcParams['figure.figsize'] = (12, 8)\n",
    "\n",
    "print(\"✓ Libraries imported successfully\")\n",
    "print(f\"✓ GeoPandas version: {gpd.__version__}\")\n",
    "print(f\"✓ Rasterio version: {rio.__version__}\")"
   ]
  },
  {
   "cell_type": "markdown",
   "metadata": {},
   "source": [
    "## 1. T7 Shield Directory Structure Overview"
   ]
  },
  {
   "cell_type": "code",
   "execution_count": null,
   "metadata": {},
   "outputs": [],
   "source": [
    "# Set up T7 Shield paths\n",
    "t7_base = Path(\"/Volumes/T7 Shield\")\n",
    "reference_data = t7_base / \"01_REFERENCE_DATA\"\n",
    "client_projects = t7_base / \"02_CLIENT_PROJECTS\"\n",
    "python_env = t7_base / \"10_PYTHON_ENVIRONMENT\"\n",
    "\n",
    "print(\"T7 Shield Directory Structure:\")\n",
    "print(\"=\" * 40)\n",
    "\n",
    "# List main directories\n",
    "for item in sorted(t7_base.iterdir()):\n",
    "    if item.is_dir() and not item.name.startswith('.'):\n",
    "        print(f\"📁 {item.name}\")\n",
    "\n",
    "print(f\"\\n✓ T7 Shield base directory: {t7_base}\")\n",
    "print(f\"✓ Python environment: {python_env}\")"
   ]
  },
  {
   "cell_type": "markdown",
   "metadata": {},
   "source": [
    "## 2. Reference Data Inventory"
   ]
  },
  {
   "cell_type": "code",
   "execution_count": null,
   "metadata": {},
   "outputs": [],
   "source": [
    "# Explore reference data categories\n",
    "print(\"Reference Data Categories:\")\n",
    "print(\"=\" * 30)\n",
    "\n",
    "reference_categories = {}\n",
    "for category in sorted(reference_data.iterdir()):\n",
    "    if category.is_dir():\n",
    "        # Count files in each category\n",
    "        file_count = len(list(category.rglob('*.*')))\n",
    "        reference_categories[category.name] = file_count\n",
    "        print(f\"📂 {category.name:<25} ({file_count} files)\")\n",
    "\n",
    "# Create a summary DataFrame\n",
    "ref_summary = pd.DataFrame(list(reference_categories.items()), \n",
    "                          columns=['Category', 'File_Count'])\n",
    "ref_summary = ref_summary.sort_values('File_Count', ascending=False)\n",
    "\n",
    "print(f\"\\n✓ Total reference data categories: {len(reference_categories)}\")\n",
    "print(f\"✓ Total reference files: {sum(reference_categories.values())}\")"
   ]
  },
  {
   "cell_type": "code",
   "execution_count": null,
   "metadata": {},
   "outputs": [],
   "source": [
    "# Visualize reference data distribution\n",
    "plt.figure(figsize=(12, 6))\n",
    "sns.barplot(data=ref_summary, x='File_Count', y='Category', palette='viridis')\n",
    "plt.title('T7 Shield Reference Data Distribution', fontsize=16, fontweight='bold')\n",
    "plt.xlabel('Number of Files')\n",
    "plt.ylabel('Data Category')\n",
    "plt.tight_layout()\n",
    "plt.show()"
   ]
  },
  {
   "cell_type": "markdown",
   "metadata": {},
   "source": [
    "## 3. Load and Explore Sample Data"
   ]
  },
  {
   "cell_type": "code",
   "execution_count": null,
   "metadata": {},
   "outputs": [],
   "source": [
    "# Load Australian state boundaries\n",
    "states_path = reference_data / \"BOUNDARIES/STATE_BOUNDARIES/STE_2021_AUST_GDA2020.shp\"\n",
    "\n",
    "if states_path.exists():\n",
    "    states_gdf = gpd.read_file(states_path)\n",
    "    print(\"Australian State Boundaries:\")\n",
    "    print(\"=\" * 30)\n",
    "    print(f\"✓ Loaded {len(states_gdf)} state/territory boundaries\")\n",
    "    print(f\"✓ CRS: {states_gdf.crs}\")\n",
    "    print(f\"✓ Columns: {list(states_gdf.columns)}\")\n",
    "    \n",
    "    # Display state information\n",
    "    print(\"\\nState/Territory Information:\")\n",
    "    for idx, row in states_gdf.iterrows():\n",
    "        area_km2 = row.geometry.area / 1e6  # Convert to km²\n",
    "        print(f\"  {row['STE_NAME21']:<25} {area_km2:>10,.0f} km²\")\nelse:\n",
    "    print(\"❌ State boundaries file not found\")\n",
    "    states_gdf = None"
   ]
  },
  {
   "cell_type": "code",
   "execution_count": null,
   "metadata": {},
   "outputs": [],
   "source": [
    "# Create a simple map of Australia\n",
    "if states_gdf is not None:\n",
    "    fig, ax = plt.subplots(1, 1, figsize=(15, 10))\n",
    "    \n",
    "    # Plot states with different colors\n",
    "    states_gdf.plot(ax=ax, column='STE_NAME21', \n",
    "                    cmap='Set3', legend=True, \n",
    "                    edgecolor='black', linewidth=0.5)\n",
    "    \n",
    "    ax.set_title('Australian States and Territories', fontsize=16, fontweight='bold')\n",
    "    ax.set_xlabel('Longitude')\n",
    "    ax.set_ylabel('Latitude')\n",
    "    ax.grid(True, alpha=0.3)\n",
    "    \n",
    "    plt.tight_layout()\n",
    "    plt.show()"
   ]
  },
  {
   "cell_type": "markdown",
   "metadata": {},
   "source": [
    "## 4. Client Projects Overview"
   ]
  },
  {
   "cell_type": "code",
   "execution_count": null,
   "metadata": {},
   "outputs": [],
   "source": [
    "# Explore client projects\n",
    "print(\"Client Projects Overview:\")\n",
    "print(\"=\" * 30)\n",
    "\n",
    "client_projects_info = {}\n",
    "for project in sorted(client_projects.iterdir()):\n",
    "    if project.is_dir():\n",
    "        # Count files in each project\n",
    "        file_count = len(list(project.rglob('*.*')))\n",
    "        client_projects_info[project.name] = {\n",
    "            'file_count': file_count,\n",
    "            'path': project\n",
    "        }\n",
    "        \n",
    "        # Look for specific file types\n",
    "        qgis_files = len(list(project.glob('*.qgz')))\n",
    "        shp_files = len(list(project.rglob('*.shp')))\n",
    "        gpkg_files = len(list(project.rglob('*.gpkg')))\n",
    "        tif_files = len(list(project.rglob('*.tif')))\n",
    "        \n",
    "        print(f\"📁 {project.name}\")\n",
    "        print(f\"   Total files: {file_count}\")\n",
    "        print(f\"   QGIS projects: {qgis_files}\")\n",
    "        print(f\"   Shapefiles: {shp_files}\")\n",
    "        print(f\"   GeoPackages: {gpkg_files}\")\n",
    "        print(f\"   GeoTIFF files: {tif_files}\")\n",
    "        print()\n",
    "\n",
    "print(f\"✓ Total client projects: {len(client_projects_info)}\")"
   ]
  },
  {
   "cell_type": "markdown",
   "metadata": {},
   "source": [
    "## 5. FullCAM Documentation Overview"
   ]
  },
  {
   "cell_type": "code",
   "execution_count": null,
   "metadata": {},
   "outputs": [],
   "source": [
    "# Explore FullCAM documentation\n",
    "fullcam_docs = t7_base / \"08_KNOWLEDGE BASE\" / \"fullcam-docs\"\n",
    "\n",
    "if fullcam_docs.exists():\n",
    "    print(\"FullCAM Documentation:\")\n",
    "    print(\"=\" * 25)\n",
    "    \n",
    "    for method_dir in sorted(fullcam_docs.iterdir()):\n",
    "        if method_dir.is_dir():\n",
    "            doc_count = len(list(method_dir.glob('*.pdf')))\n",
    "            print(f\"📄 {method_dir.name:<40} ({doc_count} PDFs)\")\n",
    "            \n",
    "            # List specific documents\n",
    "            for doc in sorted(method_dir.glob('*.pdf')):\n",
    "                print(f\"   - {doc.name}\")\n",
    "            print()\n",
    "else:\n",
    "    print(\"❌ FullCAM documentation directory not found\")"
   ]
  },
  {
   "cell_type": "markdown",
   "metadata": {},
   "source": [
    "## 6. Python Environment Verification"
   ]
  },
  {
   "cell_type": "code",
   "execution_count": null,
   "metadata": {},
   "outputs": [],
   "source": [
    "# Test key GIS libraries\n",
    "print(\"GIS Library Verification:\")\n",
    "print(\"=\" * 30)\n",
    "\n",
    "libraries_to_test = [\n",
    "    ('geopandas', gpd.__version__),\n",
    "    ('rasterio', rio.__version__),\n",
    "    ('pandas', pd.__version__),\n",
    "    ('numpy', np.__version__),\n",
    "]\n",
    "\n",
    "# Test additional imports\n",
    "try:\n",
    "    import shapely\n",
    "    libraries_to_test.append(('shapely', shapely.__version__))\nexcept ImportError:\n",
    "    libraries_to_test.append(('shapely', 'Not available'))\n",
    "\n",
    "try:\n",
    "    import pyproj\n",
    "    libraries_to_test.append(('pyproj', pyproj.__version__))\nexcept ImportError:\n",
    "    libraries_to_test.append(('pyproj', 'Not available'))\n",
    "\n",
    "try:\n",
    "    import qgis.core\n",
    "    libraries_to_test.append(('QGIS', 'Available'))\nexcept ImportError:\n",
    "    libraries_to_test.append(('QGIS', 'Not available'))\n",
    "\n",
    "# Display library versions\n",
    "for lib_name, version in libraries_to_test:\n",
    "    status = \"✓\" if version != 'Not available' else \"❌\"\n",
    "    print(f\"{status} {lib_name:<15} {version}\")\n",
    "\n",
    "print(f\"\\n✓ Python environment ready for GIS analysis!\")"
   ]
  },
  {
   "cell_type": "markdown",
   "metadata": {},
   "source": [
    "## 7. Interactive Map Example"
   ]
  },
  {
   "cell_type": "code",
   "execution_count": null,
   "metadata": {},
   "outputs": [],
   "source": [
    "# Create an interactive map centered on Australia\n",
    "if states_gdf is not None:\n",
    "    # Calculate center of Australia\n",
    "    australia_bounds = states_gdf.total_bounds\n",
    "    center_lat = (australia_bounds[1] + australia_bounds[3]) / 2\n",
    "    center_lon = (australia_bounds[0] + australia_bounds[2]) / 2\n",
    "    \n",
    "    # Create folium map\n",
    "    m = folium.Map(\n",
    "        location=[center_lat, center_lon],\n",
    "        zoom_start=5,\n",
    "        tiles='OpenStreetMap'\n",
    "    )\n",
    "    \n",
    "    # Add state boundaries\n",
    "    folium.GeoJson(\n",
    "        states_gdf.to_json(),\n",
    "        style_function=lambda feature: {\n",
    "            'fillColor': '#lightblue',\n",
    "            'color': 'black',\n",
    "            'weight': 2,\n",
    "            'fillOpacity': 0.3,\n",
    "        },\n",
    "        popup=folium.GeoJsonPopup(fields=['STE_NAME21'], labels=['State/Territory:'])\n",
    "    ).add_to(m)\n",
    "    \n",
    "    # Add title\n",
    "    title_html = '''\n",
    "                 <h3 align=\"center\" style=\"font-size:20px\"><b>T7 Shield GIS Environment - Australia Overview</b></h3>\n",
    "                 '''\n",
    "    m.get_root().html.add_child(folium.Element(title_html))\n",
    "    \n",
    "    # Display map\n",
    "    m\nelse:\n",
    "    print(\"Interactive map not available - states data not loaded\")"
   ]
  },
  {
   "cell_type": "markdown",
   "metadata": {},
   "source": [
    "## Summary\n",
    "\n",
    "This notebook has successfully:\n",
    "\n",
    "1. ✅ Verified the T7 Shield directory structure\n",
    "2. ✅ Catalogued reference data categories\n",
    "3. ✅ Loaded and visualized Australian state boundaries\n",
    "4. ✅ Inventoried client projects\n",
    "5. ✅ Confirmed FullCAM documentation availability\n",
    "6. ✅ Verified all essential GIS libraries\n",
    "7. ✅ Created interactive maps\n",
    "\n",
    "### Next Steps:\n",
    "- Explore specific client project data\n",
    "- Test FullCAM data preparation workflows\n",
    "- Perform spatial analysis on reference datasets\n",
    "- Integrate with QGIS processing algorithms\n",
    "\n",
    "The T7 Shield GIS environment is fully operational and ready for professional forestry and carbon accounting analysis!"
   ]
  }
 ],
 "metadata": {
  "kernelspec": {
   "display_name": "t7_gis_professional",
   "language": "python",
   "name": "t7_gis_professional"
  },
  "language_info": {
   "codemirror_mode": {
    "name": "ipython",
    "version": 3
   },
   "file_extension": ".py",
   "mimetype": "text/x-python",
   "name": "python",
   "nbconvert_exporter": "python",
   "pygments_lexer": "ipython3",
   "version": "3.11.0"
  }
 },
 "nbformat": 4,
 "nbformat_minor": 4
}